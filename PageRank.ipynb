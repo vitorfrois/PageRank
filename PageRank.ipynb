{
  "nbformat": 4,
  "nbformat_minor": 0,
  "metadata": {
    "colab": {
      "provenance": [],
      "collapsed_sections": [],
      "authorship_tag": "ABX9TyNViprPilucpXHeGQ9v/NMO",
      "include_colab_link": true
    },
    "kernelspec": {
      "name": "python3",
      "display_name": "Python 3"
    },
    "language_info": {
      "name": "python"
    }
  },
  "cells": [
    {
      "cell_type": "markdown",
      "metadata": {
        "id": "view-in-github",
        "colab_type": "text"
      },
      "source": [
        "<a href=\"https://colab.research.google.com/github/vitorfrois/PageRank/blob/main/PageRank.ipynb\" target=\"_parent\"><img src=\"https://colab.research.google.com/assets/colab-badge.svg\" alt=\"Open In Colab\"/></a>"
      ]
    },
    {
      "cell_type": "code",
      "execution_count": null,
      "metadata": {
        "id": "tq9pg-qmda-o"
      },
      "outputs": [],
      "source": [
        "import numpy as np\n",
        "import networkx as nx"
      ]
    },
    {
      "cell_type": "markdown",
      "source": [
        "The PageRank algorithm is one way of ranking the nodes in a graph by importance.\n",
        "\n",
        "Consider a tiny network. Nodes are pages and arcs are hyperlinks. \n",
        "\n",
        "If users start on random pages and randomly click in hyperlinks, after a certain amount of time, what page would be the most visited one?"
      ],
      "metadata": {
        "id": "ZHZin_mugZP7"
      }
    },
    {
      "cell_type": "code",
      "source": [
        "G = nx.DiGraph()\n",
        "G.add_nodes_from(['a','b','c','d'])\n",
        "G.add_edges_from([('a','b'),('a','c'),('a','d'),('c','b'),('c','d'),('d','c')])\n",
        "pos = nx.circular_layout(G)\n",
        "nx.draw(G, pos, with_labels=True, node_size=1500, label=\"Tiny-Web\")"
      ],
      "metadata": {
        "colab": {
          "base_uri": "https://localhost:8080/",
          "height": 319
        },
        "id": "L-hYN4w_hS7P",
        "outputId": "d8afd460-465d-4648-e734-7cd65b421049"
      },
      "execution_count": null,
      "outputs": [
        {
          "output_type": "display_data",
          "data": {
            "text/plain": [
              "<Figure size 432x288 with 1 Axes>"
            ],
            "image/png": "[encoded data removed]"
          },
          "metadata": {}
        }
      ]
    },
    {
      "cell_type": "markdown",
      "source": [
        "It is possible to express this graph as an adjacency matrix, which is easier to analyze."
      ],
      "metadata": {
        "id": "Gi67wyhxf6f9"
      }
    },
    {
      "cell_type": "code",
      "source": [
        "AdjM = nx.to_numpy_array(G).T\n",
        "AdjM"
      ],
      "metadata": {
        "colab": {
          "base_uri": "https://localhost:8080/"
        },
        "id": "NO7fPd_PftN2",
        "outputId": "42e6d962-f4b6-41a1-92c6-bfd1fb9432ec"
      },
      "execution_count": null,
      "outputs": [
        {
          "output_type": "execute_result",
          "data": {
            "text/plain": [
              "array([[0., 0., 0., 0.],\n",
              "       [1., 0., 1., 0.],\n",
              "       [1., 0., 0., 1.],\n",
              "       [1., 0., 1., 0.]])"
            ]
          },
          "metadata": {},
          "execution_count": 60
        }
      ]
    },
    {
      "cell_type": "markdown",
      "source": [
        "As the above graph shows, node B has no outgoing link. This would cause the surfer to stop. \n",
        "\n",
        "\n",
        "We can add virtual links from B to each node in the graph (random jumps) to prevent this."
      ],
      "metadata": {
        "id": "es_IbZ9TlXMT"
      }
    },
    {
      "cell_type": "code",
      "source": [
        "AdjM.T[1] += 1\n",
        "AdjM"
      ],
      "metadata": {
        "colab": {
          "base_uri": "https://localhost:8080/"
        },
        "id": "U2KW6TVgkKUG",
        "outputId": "18279e72-a5c9-494a-998c-45dca916a53e"
      },
      "execution_count": null,
      "outputs": [
        {
          "output_type": "execute_result",
          "data": {
            "text/plain": [
              "array([[0., 1., 0., 0.],\n",
              "       [1., 1., 1., 0.],\n",
              "       [1., 1., 0., 1.],\n",
              "       [1., 1., 1., 0.]])"
            ]
          },
          "metadata": {},
          "execution_count": 61
        }
      ]
    },
    {
      "cell_type": "markdown",
      "source": [
        "The damping factor, represented by ϵ $[0,1]$ is the probability that a user follows one link and $1-ϵ$ that he do a random jump."
      ],
      "metadata": {
        "id": "_ySovG66rYeA"
      }
    },
    {
      "cell_type": "code",
      "source": [
        "damp  = 0.85"
      ],
      "metadata": {
        "colab": {
          "base_uri": "https://localhost:8080/"
        },
        "id": "MsVYS1ieo4nS",
        "outputId": "5ba4d2be-58e9-4a08-9557-f031d9140bd6"
      },
      "execution_count": null,
      "outputs": [
        {
          "output_type": "execute_result",
          "data": {
            "text/plain": [
              "array([[0., 0., 0., 0.],\n",
              "       [0., 0., 0., 0.],\n",
              "       [0., 0., 0., 0.],\n",
              "       [0., 0., 0., 0.]])"
            ]
          },
          "metadata": {},
          "execution_count": 66
        }
      ]
    },
    {
      "cell_type": "markdown",
      "source": [
        "Now we must represent a probability matrix. All the links have equal weights, so the probability of going to each neighbor of some node is $\\frac{1}{N}$ where $N$ is the number of neighbors."
      ],
      "metadata": {
        "id": "AWTXr1Qys8T0"
      }
    },
    {
      "cell_type": "code",
      "source": [
        "probM = np.zeros_like(AdjM)\n",
        "for i in range(0, len(probM[0])):\n",
        "  sum = np.sum(AdjM.T[i])\n",
        "  probM.T[i] = AdjM.T[i] * (1/sum)\n",
        "probM"
      ],
      "metadata": {
        "colab": {
          "base_uri": "https://localhost:8080/"
        },
        "id": "r3Lfd6zwpGOP",
        "outputId": "cb0a1845-9353-4994-dd21-a5f5d14d2bcb"
      },
      "execution_count": null,
      "outputs": [
        {
          "output_type": "execute_result",
          "data": {
            "text/plain": [
              "array([[0.        , 0.25      , 0.        , 0.        ],\n",
              "       [0.33333333, 0.25      , 0.5       , 0.        ],\n",
              "       [0.33333333, 0.25      , 0.        , 1.        ],\n",
              "       [0.33333333, 0.25      , 0.5       , 0.        ]])"
            ]
          },
          "metadata": {},
          "execution_count": 99
        }
      ]
    },
    {
      "cell_type": "markdown",
      "source": [
        "We also must have a ones matrix, that represents random jumps probability."
      ],
      "metadata": {
        "id": "RhjZWOauv6Hw"
      }
    },
    {
      "cell_type": "code",
      "source": [
        "ones = np.ones_like(probM)\n",
        "ones /= len(probM[0])\n",
        "ones"
      ],
      "metadata": {
        "colab": {
          "base_uri": "https://localhost:8080/"
        },
        "id": "wlc2rwYUu6fs",
        "outputId": "94e5b738-daee-433e-c7fb-2dd36e92cb78"
      },
      "execution_count": null,
      "outputs": [
        {
          "output_type": "execute_result",
          "data": {
            "text/plain": [
              "array([[0.25, 0.25, 0.25, 0.25],\n",
              "       [0.25, 0.25, 0.25, 0.25],\n",
              "       [0.25, 0.25, 0.25, 0.25],\n",
              "       [0.25, 0.25, 0.25, 0.25]])"
            ]
          },
          "metadata": {},
          "execution_count": 136
        }
      ]
    },
    {
      "cell_type": "code",
      "source": [
        "_A = damp*probM + (1-damp) * ones\n",
        "_A"
      ],
      "metadata": {
        "colab": {
          "base_uri": "https://localhost:8080/"
        },
        "id": "Id_MLV15vzA8",
        "outputId": "cb5fea38-d274-4960-a323-657c2bbbcf74"
      },
      "execution_count": null,
      "outputs": [
        {
          "output_type": "execute_result",
          "data": {
            "text/plain": [
              "array([[0.0375    , 0.25      , 0.0375    , 0.0375    ],\n",
              "       [0.32083333, 0.25      , 0.4625    , 0.0375    ],\n",
              "       [0.32083333, 0.25      , 0.0375    , 0.8875    ],\n",
              "       [0.32083333, 0.25      , 0.4625    , 0.0375    ]])"
            ]
          },
          "metadata": {},
          "execution_count": 137
        }
      ]
    },
    {
      "cell_type": "markdown",
      "source": [
        "Now, the $x$ PageRank is the eigenvector of _A corresponding to the eigenvalue $λ = 1$"
      ],
      "metadata": {
        "id": "8SGMOD3Fz59u"
      }
    },
    {
      "cell_type": "code",
      "source": [
        "eig, prresult = np.linalg.eig(_A)\n",
        "x = prresult.T[0]\n",
        "x"
      ],
      "metadata": {
        "colab": {
          "base_uri": "https://localhost:8080/"
        },
        "id": "DLheU7wjxhcC",
        "outputId": "5bdc6609-8c68-42c0-d67d-f359a51366a5"
      },
      "execution_count": null,
      "outputs": [
        {
          "output_type": "execute_result",
          "data": {
            "text/plain": [
              "array([0.17900289, 0.51248774, 0.66533496, 0.51248774])"
            ]
          },
          "metadata": {},
          "execution_count": 143
        }
      ]
    },
    {
      "cell_type": "markdown",
      "source": [
        "Now we just have to normalize the values, so the sum of them all $= 1$."
      ],
      "metadata": {
        "id": "X37aC4iI1V-E"
      }
    },
    {
      "cell_type": "code",
      "source": [
        "x /= np.sum(x)\n",
        "x"
      ],
      "metadata": {
        "colab": {
          "base_uri": "https://localhost:8080/"
        },
        "id": "gA-h3xYr1CQA",
        "outputId": "fd6ff137-6cdb-4fc3-b1eb-6c93f4cac119"
      },
      "execution_count": null,
      "outputs": [
        {
          "output_type": "execute_result",
          "data": {
            "text/plain": [
              "array([0.09575864, 0.27415829, 0.35592479, 0.27415829])"
            ]
          },
          "metadata": {},
          "execution_count": 147
        }
      ]
    },
    {
      "cell_type": "markdown",
      "source": [
        "With the PageRank vector in mind, we can assume based on Graph \\G that the importance order is $c>b=d>a$.\n",
        "\n",
        "When checking with NetworkX library, we see our results are correct."
      ],
      "metadata": {
        "id": "4xCzxPPJ1k-3"
      }
    },
    {
      "cell_type": "code",
      "source": [
        "nx.pagerank(G)"
      ],
      "metadata": {
        "colab": {
          "base_uri": "https://localhost:8080/"
        },
        "id": "o9PkxH1fwfN_",
        "outputId": "fe88074e-4467-4dad-f8a1-2b40fe5538c0"
      },
      "execution_count": null,
      "outputs": [
        {
          "output_type": "execute_result",
          "data": {
            "text/plain": [
              "{'a': 0.09575851632006248,\n",
              " 'b': 0.2741586154363689,\n",
              " 'c': 0.3559242528071995,\n",
              " 'd': 0.2741586154363689}"
            ]
          },
          "metadata": {},
          "execution_count": 135
        }
      ]
    },
    {
      "cell_type": "code",
      "source": [],
      "metadata": {
        "colab": {
          "base_uri": "https://localhost:8080/"
        },
        "id": "9X-jQHwyzDTQ",
        "outputId": "e29dcf5a-5465-44de-e512-76fb85dd794e"
      },
      "execution_count": null,
      "outputs": [
        {
          "output_type": "execute_result",
          "data": {
            "text/plain": [
              "array([0.17900289, 0.51248774, 0.66533496, 0.51248774])"
            ]
          },
          "metadata": {},
          "execution_count": 145
        }
      ]
    },
    {
      "cell_type": "code",
      "source": [],
      "metadata": {
        "id": "A0qNsiAqwyyK"
      },
      "execution_count": null,
      "outputs": []
    }
  ]
}